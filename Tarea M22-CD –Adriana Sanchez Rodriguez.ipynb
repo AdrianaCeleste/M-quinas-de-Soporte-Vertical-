{
 "cells": [
  {
   "cell_type": "code",
   "execution_count": 1,
   "id": "8561425b-56c3-46e7-be4d-8649b2d43cb8",
   "metadata": {},
   "outputs": [],
   "source": [
    "# Se importan las bibliotecas \n",
    "import pandas as pd \n",
    "import pylab as pl\n",
    "import numpy as np\n",
    "import scipy.optimize as opt\n",
    "from sklearn import preprocessing\n",
    "from sklearn.model_selection import train_test_split\n",
    "import matplotlib.pyplot as plt\n",
    "import warnings\n",
    "warnings.filterwarnings(\"ignore\")"
   ]
  },
  {
   "cell_type": "code",
   "execution_count": 2,
   "id": "a61486ed-a417-40f0-a07a-ab2961343903",
   "metadata": {},
   "outputs": [
    {
     "data": {
      "text/html": [
       "<div>\n",
       "<style scoped>\n",
       "    .dataframe tbody tr th:only-of-type {\n",
       "        vertical-align: middle;\n",
       "    }\n",
       "\n",
       "    .dataframe tbody tr th {\n",
       "        vertical-align: top;\n",
       "    }\n",
       "\n",
       "    .dataframe thead th {\n",
       "        text-align: right;\n",
       "    }\n",
       "</style>\n",
       "<table border=\"1\" class=\"dataframe\">\n",
       "  <thead>\n",
       "    <tr style=\"text-align: right;\">\n",
       "      <th></th>\n",
       "      <th>satisfaction_level</th>\n",
       "      <th>last_evaluation</th>\n",
       "      <th>number_project</th>\n",
       "      <th>average_montly_hours</th>\n",
       "      <th>time_spend_company</th>\n",
       "      <th>Work_accident</th>\n",
       "      <th>left</th>\n",
       "      <th>promotion_last_5years</th>\n",
       "      <th>sales</th>\n",
       "      <th>salary</th>\n",
       "    </tr>\n",
       "  </thead>\n",
       "  <tbody>\n",
       "    <tr>\n",
       "      <th>0</th>\n",
       "      <td>0.38</td>\n",
       "      <td>0.53</td>\n",
       "      <td>2</td>\n",
       "      <td>157</td>\n",
       "      <td>3</td>\n",
       "      <td>0</td>\n",
       "      <td>1</td>\n",
       "      <td>0</td>\n",
       "      <td>sales</td>\n",
       "      <td>low</td>\n",
       "    </tr>\n",
       "    <tr>\n",
       "      <th>1</th>\n",
       "      <td>0.80</td>\n",
       "      <td>0.86</td>\n",
       "      <td>5</td>\n",
       "      <td>262</td>\n",
       "      <td>6</td>\n",
       "      <td>0</td>\n",
       "      <td>1</td>\n",
       "      <td>0</td>\n",
       "      <td>sales</td>\n",
       "      <td>medium</td>\n",
       "    </tr>\n",
       "    <tr>\n",
       "      <th>2</th>\n",
       "      <td>0.11</td>\n",
       "      <td>0.88</td>\n",
       "      <td>7</td>\n",
       "      <td>272</td>\n",
       "      <td>4</td>\n",
       "      <td>0</td>\n",
       "      <td>1</td>\n",
       "      <td>0</td>\n",
       "      <td>sales</td>\n",
       "      <td>medium</td>\n",
       "    </tr>\n",
       "    <tr>\n",
       "      <th>3</th>\n",
       "      <td>0.72</td>\n",
       "      <td>0.87</td>\n",
       "      <td>5</td>\n",
       "      <td>223</td>\n",
       "      <td>5</td>\n",
       "      <td>0</td>\n",
       "      <td>1</td>\n",
       "      <td>0</td>\n",
       "      <td>sales</td>\n",
       "      <td>low</td>\n",
       "    </tr>\n",
       "    <tr>\n",
       "      <th>4</th>\n",
       "      <td>0.37</td>\n",
       "      <td>0.52</td>\n",
       "      <td>2</td>\n",
       "      <td>159</td>\n",
       "      <td>3</td>\n",
       "      <td>0</td>\n",
       "      <td>1</td>\n",
       "      <td>0</td>\n",
       "      <td>sales</td>\n",
       "      <td>low</td>\n",
       "    </tr>\n",
       "  </tbody>\n",
       "</table>\n",
       "</div>"
      ],
      "text/plain": [
       "   satisfaction_level  last_evaluation  number_project  average_montly_hours  \\\n",
       "0                0.38             0.53               2                   157   \n",
       "1                0.80             0.86               5                   262   \n",
       "2                0.11             0.88               7                   272   \n",
       "3                0.72             0.87               5                   223   \n",
       "4                0.37             0.52               2                   159   \n",
       "\n",
       "   time_spend_company  Work_accident  left  promotion_last_5years  sales  \\\n",
       "0                   3              0     1                      0  sales   \n",
       "1                   6              0     1                      0  sales   \n",
       "2                   4              0     1                      0  sales   \n",
       "3                   5              0     1                      0  sales   \n",
       "4                   3              0     1                      0  sales   \n",
       "\n",
       "   salary  \n",
       "0     low  \n",
       "1  medium  \n",
       "2  medium  \n",
       "3     low  \n",
       "4     low  "
      ]
     },
     "execution_count": 2,
     "metadata": {},
     "output_type": "execute_result"
    }
   ],
   "source": [
    "# Se carga la base de datos\n",
    "df=pd.read_csv(\"recursos_humanos.csv\")\n",
    "df.head()"
   ]
  },
  {
   "cell_type": "code",
   "execution_count": 3,
   "id": "ed2d9595-6c98-4a8d-a95c-e875b3648e3e",
   "metadata": {},
   "outputs": [
    {
     "data": {
      "text/html": [
       "<div>\n",
       "<style scoped>\n",
       "    .dataframe tbody tr th:only-of-type {\n",
       "        vertical-align: middle;\n",
       "    }\n",
       "\n",
       "    .dataframe tbody tr th {\n",
       "        vertical-align: top;\n",
       "    }\n",
       "\n",
       "    .dataframe thead th {\n",
       "        text-align: right;\n",
       "    }\n",
       "</style>\n",
       "<table border=\"1\" class=\"dataframe\">\n",
       "  <thead>\n",
       "    <tr style=\"text-align: right;\">\n",
       "      <th></th>\n",
       "      <th>satisfaction_level</th>\n",
       "      <th>last_evaluation</th>\n",
       "      <th>average_montly_hours</th>\n",
       "      <th>time_spend_company</th>\n",
       "      <th>Work_accident</th>\n",
       "      <th>left</th>\n",
       "      <th>promotion_last_5years</th>\n",
       "      <th>sales</th>\n",
       "      <th>salary</th>\n",
       "    </tr>\n",
       "  </thead>\n",
       "  <tbody>\n",
       "    <tr>\n",
       "      <th>0</th>\n",
       "      <td>0.38</td>\n",
       "      <td>0.53</td>\n",
       "      <td>157</td>\n",
       "      <td>3</td>\n",
       "      <td>0</td>\n",
       "      <td>1</td>\n",
       "      <td>0</td>\n",
       "      <td>sales</td>\n",
       "      <td>low</td>\n",
       "    </tr>\n",
       "    <tr>\n",
       "      <th>1</th>\n",
       "      <td>0.80</td>\n",
       "      <td>0.86</td>\n",
       "      <td>262</td>\n",
       "      <td>6</td>\n",
       "      <td>0</td>\n",
       "      <td>1</td>\n",
       "      <td>0</td>\n",
       "      <td>sales</td>\n",
       "      <td>medium</td>\n",
       "    </tr>\n",
       "    <tr>\n",
       "      <th>2</th>\n",
       "      <td>0.11</td>\n",
       "      <td>0.88</td>\n",
       "      <td>272</td>\n",
       "      <td>4</td>\n",
       "      <td>0</td>\n",
       "      <td>1</td>\n",
       "      <td>0</td>\n",
       "      <td>sales</td>\n",
       "      <td>medium</td>\n",
       "    </tr>\n",
       "    <tr>\n",
       "      <th>3</th>\n",
       "      <td>0.72</td>\n",
       "      <td>0.87</td>\n",
       "      <td>223</td>\n",
       "      <td>5</td>\n",
       "      <td>0</td>\n",
       "      <td>1</td>\n",
       "      <td>0</td>\n",
       "      <td>sales</td>\n",
       "      <td>low</td>\n",
       "    </tr>\n",
       "    <tr>\n",
       "      <th>4</th>\n",
       "      <td>0.37</td>\n",
       "      <td>0.52</td>\n",
       "      <td>159</td>\n",
       "      <td>3</td>\n",
       "      <td>0</td>\n",
       "      <td>1</td>\n",
       "      <td>0</td>\n",
       "      <td>sales</td>\n",
       "      <td>low</td>\n",
       "    </tr>\n",
       "  </tbody>\n",
       "</table>\n",
       "</div>"
      ],
      "text/plain": [
       "   satisfaction_level  last_evaluation  average_montly_hours  \\\n",
       "0                0.38             0.53                   157   \n",
       "1                0.80             0.86                   262   \n",
       "2                0.11             0.88                   272   \n",
       "3                0.72             0.87                   223   \n",
       "4                0.37             0.52                   159   \n",
       "\n",
       "   time_spend_company  Work_accident  left  promotion_last_5years  sales  \\\n",
       "0                   3              0     1                      0  sales   \n",
       "1                   6              0     1                      0  sales   \n",
       "2                   4              0     1                      0  sales   \n",
       "3                   5              0     1                      0  sales   \n",
       "4                   3              0     1                      0  sales   \n",
       "\n",
       "   salary  \n",
       "0     low  \n",
       "1  medium  \n",
       "2  medium  \n",
       "3     low  \n",
       "4     low  "
      ]
     },
     "execution_count": 3,
     "metadata": {},
     "output_type": "execute_result"
    }
   ],
   "source": [
    "# EL primer paso es remover la variable que no se pide analizar que es \"number_project\"\n",
    "df.drop([\"number_project\"],axis=1, inplace=True )\n",
    "df.head()"
   ]
  },
  {
   "cell_type": "code",
   "execution_count": 4,
   "id": "78fe8054-ef5c-4746-ac93-a50e987d984e",
   "metadata": {},
   "outputs": [
    {
     "data": {
      "text/html": [
       "<div>\n",
       "<style scoped>\n",
       "    .dataframe tbody tr th:only-of-type {\n",
       "        vertical-align: middle;\n",
       "    }\n",
       "\n",
       "    .dataframe tbody tr th {\n",
       "        vertical-align: top;\n",
       "    }\n",
       "\n",
       "    .dataframe thead th {\n",
       "        text-align: right;\n",
       "    }\n",
       "</style>\n",
       "<table border=\"1\" class=\"dataframe\">\n",
       "  <thead>\n",
       "    <tr style=\"text-align: right;\">\n",
       "      <th></th>\n",
       "      <th>satisfaction_level</th>\n",
       "      <th>last_evaluation</th>\n",
       "      <th>average_montly_hours</th>\n",
       "      <th>time_spend_company</th>\n",
       "      <th>Work_accident</th>\n",
       "      <th>left</th>\n",
       "      <th>promotion_last_5years</th>\n",
       "      <th>sales</th>\n",
       "      <th>salary</th>\n",
       "    </tr>\n",
       "  </thead>\n",
       "  <tbody>\n",
       "    <tr>\n",
       "      <th>0</th>\n",
       "      <td>0.38</td>\n",
       "      <td>0.53</td>\n",
       "      <td>157</td>\n",
       "      <td>3</td>\n",
       "      <td>0</td>\n",
       "      <td>1</td>\n",
       "      <td>0</td>\n",
       "      <td>sales</td>\n",
       "      <td>0</td>\n",
       "    </tr>\n",
       "    <tr>\n",
       "      <th>1</th>\n",
       "      <td>0.80</td>\n",
       "      <td>0.86</td>\n",
       "      <td>262</td>\n",
       "      <td>6</td>\n",
       "      <td>0</td>\n",
       "      <td>1</td>\n",
       "      <td>0</td>\n",
       "      <td>sales</td>\n",
       "      <td>1</td>\n",
       "    </tr>\n",
       "    <tr>\n",
       "      <th>2</th>\n",
       "      <td>0.11</td>\n",
       "      <td>0.88</td>\n",
       "      <td>272</td>\n",
       "      <td>4</td>\n",
       "      <td>0</td>\n",
       "      <td>1</td>\n",
       "      <td>0</td>\n",
       "      <td>sales</td>\n",
       "      <td>1</td>\n",
       "    </tr>\n",
       "    <tr>\n",
       "      <th>3</th>\n",
       "      <td>0.72</td>\n",
       "      <td>0.87</td>\n",
       "      <td>223</td>\n",
       "      <td>5</td>\n",
       "      <td>0</td>\n",
       "      <td>1</td>\n",
       "      <td>0</td>\n",
       "      <td>sales</td>\n",
       "      <td>0</td>\n",
       "    </tr>\n",
       "    <tr>\n",
       "      <th>4</th>\n",
       "      <td>0.37</td>\n",
       "      <td>0.52</td>\n",
       "      <td>159</td>\n",
       "      <td>3</td>\n",
       "      <td>0</td>\n",
       "      <td>1</td>\n",
       "      <td>0</td>\n",
       "      <td>sales</td>\n",
       "      <td>0</td>\n",
       "    </tr>\n",
       "  </tbody>\n",
       "</table>\n",
       "</div>"
      ],
      "text/plain": [
       "   satisfaction_level  last_evaluation  average_montly_hours  \\\n",
       "0                0.38             0.53                   157   \n",
       "1                0.80             0.86                   262   \n",
       "2                0.11             0.88                   272   \n",
       "3                0.72             0.87                   223   \n",
       "4                0.37             0.52                   159   \n",
       "\n",
       "   time_spend_company  Work_accident  left  promotion_last_5years  sales  \\\n",
       "0                   3              0     1                      0  sales   \n",
       "1                   6              0     1                      0  sales   \n",
       "2                   4              0     1                      0  sales   \n",
       "3                   5              0     1                      0  sales   \n",
       "4                   3              0     1                      0  sales   \n",
       "\n",
       "   salary  \n",
       "0       0  \n",
       "1       1  \n",
       "2       1  \n",
       "3       0  \n",
       "4       0  "
      ]
     },
     "execution_count": 4,
     "metadata": {},
     "output_type": "execute_result"
    }
   ],
   "source": [
    "# Cambiremos los valores del salario a valores numericos\n",
    "#  0= low(bajo), 1= medium (medio), 2= high(alto) \n",
    "df[\"salary\"] = df[\"salary\"].replace({\"low\": 0, \"medium\": 1, \"high\": 2})\n",
    "df.head()"
   ]
  },
  {
   "cell_type": "code",
   "execution_count": 5,
   "id": "7dc449cb-1620-403e-afc7-11b3aa27a206",
   "metadata": {},
   "outputs": [
    {
     "data": {
      "text/plain": [
       "['sales',\n",
       " 'accounting',\n",
       " 'hr',\n",
       " 'technical',\n",
       " 'support',\n",
       " 'management',\n",
       " 'IT',\n",
       " 'product_mng',\n",
       " 'marketing',\n",
       " 'RandD']"
      ]
     },
     "execution_count": 5,
     "metadata": {},
     "output_type": "execute_result"
    }
   ],
   "source": [
    "# En este ejercicio no se pide un deparyamento en especifico, por lo primero buscaremos sacar todos los deparmentos\n",
    "tipos_trabajo=[]\n",
    "for s in df[\"sales\"]:\n",
    "    if not s in tipos_trabajo:\n",
    "        tipos_trabajo.append(s)\n",
    "tipos_trabajo"
   ]
  },
  {
   "cell_type": "code",
   "execution_count": 6,
   "id": "8d1a1ec1-a1c7-485a-9397-a87e07899047",
   "metadata": {},
   "outputs": [
    {
     "data": {
      "text/html": [
       "<div>\n",
       "<style scoped>\n",
       "    .dataframe tbody tr th:only-of-type {\n",
       "        vertical-align: middle;\n",
       "    }\n",
       "\n",
       "    .dataframe tbody tr th {\n",
       "        vertical-align: top;\n",
       "    }\n",
       "\n",
       "    .dataframe thead th {\n",
       "        text-align: right;\n",
       "    }\n",
       "</style>\n",
       "<table border=\"1\" class=\"dataframe\">\n",
       "  <thead>\n",
       "    <tr style=\"text-align: right;\">\n",
       "      <th></th>\n",
       "      <th>satisfaction_level</th>\n",
       "      <th>last_evaluation</th>\n",
       "      <th>average_montly_hours</th>\n",
       "      <th>time_spend_company</th>\n",
       "      <th>Work_accident</th>\n",
       "      <th>left</th>\n",
       "      <th>promotion_last_5years</th>\n",
       "      <th>sales</th>\n",
       "      <th>salary</th>\n",
       "    </tr>\n",
       "  </thead>\n",
       "  <tbody>\n",
       "    <tr>\n",
       "      <th>0</th>\n",
       "      <td>0.38</td>\n",
       "      <td>0.53</td>\n",
       "      <td>157</td>\n",
       "      <td>3</td>\n",
       "      <td>0</td>\n",
       "      <td>1</td>\n",
       "      <td>0</td>\n",
       "      <td>0</td>\n",
       "      <td>0</td>\n",
       "    </tr>\n",
       "    <tr>\n",
       "      <th>1</th>\n",
       "      <td>0.80</td>\n",
       "      <td>0.86</td>\n",
       "      <td>262</td>\n",
       "      <td>6</td>\n",
       "      <td>0</td>\n",
       "      <td>1</td>\n",
       "      <td>0</td>\n",
       "      <td>0</td>\n",
       "      <td>1</td>\n",
       "    </tr>\n",
       "    <tr>\n",
       "      <th>2</th>\n",
       "      <td>0.11</td>\n",
       "      <td>0.88</td>\n",
       "      <td>272</td>\n",
       "      <td>4</td>\n",
       "      <td>0</td>\n",
       "      <td>1</td>\n",
       "      <td>0</td>\n",
       "      <td>0</td>\n",
       "      <td>1</td>\n",
       "    </tr>\n",
       "    <tr>\n",
       "      <th>3</th>\n",
       "      <td>0.72</td>\n",
       "      <td>0.87</td>\n",
       "      <td>223</td>\n",
       "      <td>5</td>\n",
       "      <td>0</td>\n",
       "      <td>1</td>\n",
       "      <td>0</td>\n",
       "      <td>0</td>\n",
       "      <td>0</td>\n",
       "    </tr>\n",
       "    <tr>\n",
       "      <th>4</th>\n",
       "      <td>0.37</td>\n",
       "      <td>0.52</td>\n",
       "      <td>159</td>\n",
       "      <td>3</td>\n",
       "      <td>0</td>\n",
       "      <td>1</td>\n",
       "      <td>0</td>\n",
       "      <td>0</td>\n",
       "      <td>0</td>\n",
       "    </tr>\n",
       "  </tbody>\n",
       "</table>\n",
       "</div>"
      ],
      "text/plain": [
       "   satisfaction_level  last_evaluation  average_montly_hours  \\\n",
       "0                0.38             0.53                   157   \n",
       "1                0.80             0.86                   262   \n",
       "2                0.11             0.88                   272   \n",
       "3                0.72             0.87                   223   \n",
       "4                0.37             0.52                   159   \n",
       "\n",
       "   time_spend_company  Work_accident  left  promotion_last_5years  sales  \\\n",
       "0                   3              0     1                      0      0   \n",
       "1                   6              0     1                      0      0   \n",
       "2                   4              0     1                      0      0   \n",
       "3                   5              0     1                      0      0   \n",
       "4                   3              0     1                      0      0   \n",
       "\n",
       "   salary  \n",
       "0       0  \n",
       "1       1  \n",
       "2       1  \n",
       "3       0  \n",
       "4       0  "
      ]
     },
     "execution_count": 6,
     "metadata": {},
     "output_type": "execute_result"
    }
   ],
   "source": [
    "# Una vez realizado esto tammbien cambiaremos  por valores númericos como lo hicimos con salarios \n",
    "#0=Sales 1=accouting 2=hr 3=technical 4=support 5=management 6=IT 7=product management 8=marketing 9=RandD\n",
    "\n",
    "df[\"sales\"] = df[\"sales\"].replace({\"sales\": 0, \"accounting\": 1, \"hr\": 2, \"technical\":3, \"support\":4, \"management\":5, \"IT\":6,\n",
    "                                   \"product_mng\":7,  \"marketing\":8,\"RandD\":9} )\n",
    "df.head()"
   ]
  },
  {
   "cell_type": "code",
   "execution_count": 7,
   "id": "adc6d24f-f546-4f81-9a7c-c575dc1ded1c",
   "metadata": {},
   "outputs": [
    {
     "data": {
      "text/plain": [
       "array([[  0.38,   0.53, 157.  ,   3.  ,   0.  ,   0.  ,   0.  ,   0.  ]])"
      ]
     },
     "execution_count": 7,
     "metadata": {},
     "output_type": "execute_result"
    }
   ],
   "source": [
    "# Definimos la \"x\" y \"y\" con las que trabajaremos \n",
    "y=np.asarray(df[\"left\"])\n",
    "x=np.asarray(df.drop([\"left\"], axis=1))\n",
    "x[0:1]"
   ]
  },
  {
   "cell_type": "code",
   "execution_count": 8,
   "id": "387d0a17-565a-4527-8186-2cc6dfbbad35",
   "metadata": {},
   "outputs": [],
   "source": [
    "#Creación de grupos de entrenamiento y prueba \n",
    "x_train,x_test,y_train,y_test=train_test_split(x,y, test_size=0.3, random_state=2)"
   ]
  },
  {
   "cell_type": "markdown",
   "id": "ca19f1d2-1a56-444a-bee1-c68cc6479ed9",
   "metadata": {},
   "source": [
    "# Modelación con Radial Basis Funtion (RBF)"
   ]
  },
  {
   "cell_type": "code",
   "execution_count": 10,
   "id": "f7650d06-3ca9-496d-9762-e680749270b0",
   "metadata": {},
   "outputs": [],
   "source": [
    "#Cargamos la biblioteca correspondiente \n",
    "from sklearn import svm\n",
    "clf=svm.SVC(kernel=\"rbf\")\n",
    "clf.fit(x_train,y_train)\n",
    "\n",
    "#Predición para la base de prueba \n",
    "yhat=clf.predict(x_test)"
   ]
  },
  {
   "cell_type": "code",
   "execution_count": 11,
   "id": "d7f5c52f-437e-4f13-ad1f-a283d27d47cb",
   "metadata": {},
   "outputs": [
    {
     "data": {
      "text/plain": [
       "array([[3394,    0],\n",
       "       [1042,   64]], dtype=int64)"
      ]
     },
     "execution_count": 11,
     "metadata": {},
     "output_type": "execute_result"
    }
   ],
   "source": [
    "#Creación de matriz de confusión\n",
    "from sklearn.metrics import confusion_matrix\n",
    "y_pred=clf.predict(x)\n",
    "cm=confusion_matrix(y_test,yhat)\n",
    "cm"
   ]
  },
  {
   "cell_type": "code",
   "execution_count": 12,
   "id": "750aab28-7fe5-4f25-b424-59347944964e",
   "metadata": {},
   "outputs": [
    {
     "name": "stdout",
     "output_type": "stream",
     "text": [
      "              precision    recall  f1-score   support\n",
      "\n",
      "           0       0.77      1.00      0.87      3394\n",
      "           1       1.00      0.06      0.11      1106\n",
      "\n",
      "    accuracy                           0.77      4500\n",
      "   macro avg       0.88      0.53      0.49      4500\n",
      "weighted avg       0.82      0.77      0.68      4500\n",
      "\n"
     ]
    }
   ],
   "source": [
    "# Estadísticas de desempeño\n",
    "from sklearn.metrics import classification_report \n",
    "cnf_matrix=confusion_matrix(y_test, yhat, labels=[0,1])\n",
    "print(classification_report(y_test,yhat))"
   ]
  },
  {
   "cell_type": "markdown",
   "id": "0a57e1cf-c87c-4c82-a1fb-5031ff333632",
   "metadata": {},
   "source": [
    "Como vemos en la respuesta de del 1 Que es donde el empleado renuncia tiene un recall y f1 score muy bajo por lo cual la predicción basada en este método no es confiable. Ya que solo se pronosticaron 64 empleados en la posición [1,1] como que iban a dejar, pero en realidad tuvimos una cantidad de falsos negativos de 1042. Se pronostican mucho más empleados que van a renunciar a los que si lo hacen."
   ]
  },
  {
   "cell_type": "markdown",
   "id": "38d55a9d-df4b-4d97-8f63-44528c59bd46",
   "metadata": {},
   "source": [
    "# Prueba de SVM con Kernel Lineal"
   ]
  },
  {
   "cell_type": "code",
   "execution_count": 15,
   "id": "02df715a-3b22-45d9-9707-db107f509d81",
   "metadata": {},
   "outputs": [
    {
     "data": {
      "text/plain": [
       "array([[3201,  193],\n",
       "       [ 809,  297]], dtype=int64)"
      ]
     },
     "execution_count": 15,
     "metadata": {},
     "output_type": "execute_result"
    }
   ],
   "source": [
    "clf=svm.SVC(kernel=\"linear\")\n",
    "clf.fit(x_train,y_train)\n",
    "\n",
    "yhat=clf.predict(x_test)\n",
    "\n",
    "#confusión matrix\n",
    "from sklearn.metrics import confusion_matrix\n",
    "y_pred=clf.predict(x)\n",
    "cm=confusion_matrix(y_test,yhat)\n",
    "cm"
   ]
  },
  {
   "cell_type": "code",
   "execution_count": 16,
   "id": "4471a0a5-ecb4-4d1c-8f1f-1df5d75618c2",
   "metadata": {},
   "outputs": [
    {
     "name": "stdout",
     "output_type": "stream",
     "text": [
      "              precision    recall  f1-score   support\n",
      "\n",
      "           0       0.80      0.94      0.86      3394\n",
      "           1       0.61      0.27      0.37      1106\n",
      "\n",
      "    accuracy                           0.78      4500\n",
      "   macro avg       0.70      0.61      0.62      4500\n",
      "weighted avg       0.75      0.78      0.74      4500\n",
      "\n"
     ]
    }
   ],
   "source": [
    "cnf_matrix=confusion_matrix(y_test, yhat, labels=[0,1])\n",
    "print(classification_report(y_test,yhat))"
   ]
  },
  {
   "cell_type": "markdown",
   "id": "46837205-abbe-489c-9877-edae7538f89c",
   "metadata": {},
   "source": [
    "Si bien este metodo aumenta el nivel de prediccion de los empleado que renuncia, baja el nivel de los empleado que deciden quedarse, por la precencia de falsos negativos que eran nulos la vez pasada. Por lo cual tampoco podemos utilizar este metodo de manera confiable."
   ]
  },
  {
   "cell_type": "markdown",
   "id": "6a4b93e7-86e0-44e1-8ea6-e15d750203e2",
   "metadata": {},
   "source": [
    "# Prueba de SVM con Kernel polinomial "
   ]
  },
  {
   "cell_type": "code",
   "execution_count": 19,
   "id": "3b1a29c8-1683-426d-8f2f-4d25dab9b283",
   "metadata": {},
   "outputs": [
    {
     "data": {
      "text/plain": [
       "array([[3394,    0],\n",
       "       [1106,    0]], dtype=int64)"
      ]
     },
     "execution_count": 19,
     "metadata": {},
     "output_type": "execute_result"
    }
   ],
   "source": [
    "clf=svm.SVC(kernel=\"poly\")\n",
    "clf.fit(x_train,y_train)\n",
    "\n",
    "yhat=clf.predict(x_test)\n",
    "\n",
    "#confusión matrix\n",
    "from sklearn.metrics import confusion_matrix\n",
    "y_pred=clf.predict(x)\n",
    "cm=confusion_matrix(y_test,yhat)\n",
    "cm"
   ]
  },
  {
   "cell_type": "code",
   "execution_count": 20,
   "id": "326807d9-04fb-430b-82da-928cdb608182",
   "metadata": {},
   "outputs": [
    {
     "name": "stdout",
     "output_type": "stream",
     "text": [
      "              precision    recall  f1-score   support\n",
      "\n",
      "           0       0.75      1.00      0.86      3394\n",
      "           1       0.00      0.00      0.00      1106\n",
      "\n",
      "    accuracy                           0.75      4500\n",
      "   macro avg       0.38      0.50      0.43      4500\n",
      "weighted avg       0.57      0.75      0.65      4500\n",
      "\n"
     ]
    }
   ],
   "source": [
    "cnf_matrix=confusion_matrix(y_test, yhat, labels=[0,1])\n",
    "print(classification_report(y_test,yhat))"
   ]
  },
  {
   "cell_type": "markdown",
   "id": "35b63b6d-f465-4fea-bde9-b8ab081a2ad1",
   "metadata": {},
   "source": [
    "Este es el método con perores resultados, ya que no predijo que ninguna persona renunciara a la compañía. Es poco confiable."
   ]
  },
  {
   "cell_type": "markdown",
   "id": "59ef6c7c-2864-4b2b-8f1d-a3dbb1691540",
   "metadata": {},
   "source": [
    "# Prueba de SVM con Kernel Sigmoide"
   ]
  },
  {
   "cell_type": "code",
   "execution_count": 23,
   "id": "1fd84326-cf78-481f-9a51-59bbf29b70fd",
   "metadata": {},
   "outputs": [
    {
     "data": {
      "text/plain": [
       "array([[2732,  662],\n",
       "       [ 687,  419]], dtype=int64)"
      ]
     },
     "execution_count": 23,
     "metadata": {},
     "output_type": "execute_result"
    }
   ],
   "source": [
    "clf=svm.SVC(kernel=\"sigmoid\")\n",
    "clf.fit(x_train,y_train)\n",
    "\n",
    "yhat=clf.predict(x_test)\n",
    "\n",
    "#confusión matrix\n",
    "from sklearn.metrics import confusion_matrix\n",
    "y_pred=clf.predict(x)\n",
    "cm=confusion_matrix(y_test,yhat)\n",
    "cm"
   ]
  },
  {
   "cell_type": "code",
   "execution_count": 24,
   "id": "ede0d165-f0cd-472d-8fc3-48e3f4e48126",
   "metadata": {},
   "outputs": [
    {
     "name": "stdout",
     "output_type": "stream",
     "text": [
      "              precision    recall  f1-score   support\n",
      "\n",
      "           0       0.80      0.80      0.80      3394\n",
      "           1       0.39      0.38      0.38      1106\n",
      "\n",
      "    accuracy                           0.70      4500\n",
      "   macro avg       0.59      0.59      0.59      4500\n",
      "weighted avg       0.70      0.70      0.70      4500\n",
      "\n"
     ]
    }
   ],
   "source": [
    "cnf_matrix=confusion_matrix(y_test, yhat, labels=[0,1])\n",
    "print(classification_report(y_test,yhat))"
   ]
  },
  {
   "cell_type": "markdown",
   "id": "180f7a46-3945-441a-9116-5125fa150f9b",
   "metadata": {},
   "source": [
    "Si bien es otro método que da mejores resultados en cuanto a las personas que renuncian esto lo hace perdiendo de nuevo confiabilidad en las personas que se quedan en el trabajo."
   ]
  },
  {
   "cell_type": "markdown",
   "id": "98740306-a630-4c68-a726-acca30c4c3a1",
   "metadata": {},
   "source": [
    "# Conclusión Final\n",
    "\n",
    "Creo que los metodos fueron poco efectivos por que se tomaron gente de todos los departamentos. Mi sugerencia seria volver a realizar los análisis pero por departamento para ver si eso da mejores resultados que nos ayuden a tomar mejores decisiones para la empresa."
   ]
  },
  {
   "cell_type": "code",
   "execution_count": null,
   "id": "435dfdf1-5f81-4995-97a4-d9a47ca027b6",
   "metadata": {},
   "outputs": [],
   "source": []
  }
 ],
 "metadata": {
  "kernelspec": {
   "display_name": "Python 3 (ipykernel)",
   "language": "python",
   "name": "python3"
  },
  "language_info": {
   "codemirror_mode": {
    "name": "ipython",
    "version": 3
   },
   "file_extension": ".py",
   "mimetype": "text/x-python",
   "name": "python",
   "nbconvert_exporter": "python",
   "pygments_lexer": "ipython3",
   "version": "3.12.4"
  }
 },
 "nbformat": 4,
 "nbformat_minor": 5
}
